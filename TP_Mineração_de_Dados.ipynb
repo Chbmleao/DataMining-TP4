{
  "nbformat": 4,
  "nbformat_minor": 0,
  "metadata": {
    "colab": {
      "provenance": []
    },
    "kernelspec": {
      "name": "python3",
      "display_name": "Python 3"
    },
    "language_info": {
      "name": "python"
    }
  },
  "cells": [
    {
      "cell_type": "markdown",
      "source": [
        "# **Proposta de Trabalho - Mineração de dados**\n",
        "\n",
        "### **Professores:** Wagner Meira Jr./Pedro Calais\n",
        "### **Aluno:**\n",
        "### **Matrícula**\n",
        "\n",
        "\n",
        "### **Tema:**\n",
        "### **Base de dados:** (link)\n"
      ],
      "metadata": {
        "id": "2z-yJF6TObCw"
      }
    },
    {
      "cell_type": "code",
      "source": [
        "#Bibliotecas usadas no projeto"
      ],
      "metadata": {
        "id": "EK8yf-vgJqkL"
      },
      "execution_count": null,
      "outputs": []
    },
    {
      "cell_type": "markdown",
      "source": [
        "##**2. Data understanding (Entendimento dos dados)**\n"
      ],
      "metadata": {
        "id": "ckPkUM8AJeMl"
      }
    },
    {
      "cell_type": "code",
      "source": [
        "#Carregando a base de dados"
      ],
      "metadata": {
        "id": "j1fDgQ9gJ1EV"
      },
      "execution_count": null,
      "outputs": []
    },
    {
      "cell_type": "code",
      "source": [],
      "metadata": {
        "id": "OeLR9RnhOYxk"
      },
      "execution_count": null,
      "outputs": []
    },
    {
      "cell_type": "markdown",
      "source": [
        "##**3. Data preparation (Preparação dos dados)**"
      ],
      "metadata": {
        "id": "YBK0Ro38J8kF"
      }
    },
    {
      "cell_type": "code",
      "source": [],
      "metadata": {
        "id": "zfo1D18BOXzl"
      },
      "execution_count": null,
      "outputs": []
    },
    {
      "cell_type": "markdown",
      "source": [
        "##**4. Modeling (Modelagem)**"
      ],
      "metadata": {
        "id": "AjlBKt3FKJhA"
      }
    },
    {
      "cell_type": "markdown",
      "source": [
        "\n",
        "1.   Explicar brevemente como você elaborou o modelo para o seus dados.\n",
        "2.   Se a intenção for fazer uma análise comparativa entre algorimtmos criar células markdown ou comentários explicitando onde começa o código referente a cada algoritmo.\n",
        "3. Explicar (quando pertinente) o fluxo de dados, ou seja como você organizou os dados em treino e teste, como foi o ajuste de parâmetros e eventuais decisões de projeto referentes a modelagem de dados. **Que ajudem a compreender o código.**\n",
        "\n",
        "O relatório deverá conter essas informações, mas sob a **perspectiva do projeto de dados**"
      ],
      "metadata": {
        "id": "T4u-bKwrKOOv"
      }
    },
    {
      "cell_type": "code",
      "source": [],
      "metadata": {
        "id": "P_YEjbzyOXC9"
      },
      "execution_count": null,
      "outputs": []
    },
    {
      "cell_type": "markdown",
      "source": [
        "##**5. Evaluation (Validação)**\n"
      ],
      "metadata": {
        "id": "F1UAOjMXMfrg"
      }
    },
    {
      "cell_type": "code",
      "source": [],
      "metadata": {
        "id": "g37UqSQCOWX8"
      },
      "execution_count": null,
      "outputs": []
    },
    {
      "cell_type": "markdown",
      "source": [
        "**Prevenção de falhas**\n",
        "(Opcional)\n",
        "\n",
        "\n",
        "Se o seu dataset for muito grande ou muito grande, ou for muito custoso rodar os algoritmos é indicado que tenha uma célula na qual os resultados parciais possam ser salvos. Evitando, assim ter que re-rodar os algoritmos novamente."
      ],
      "metadata": {
        "id": "xaQyUkiBNDJ3"
      }
    }
  ]
}